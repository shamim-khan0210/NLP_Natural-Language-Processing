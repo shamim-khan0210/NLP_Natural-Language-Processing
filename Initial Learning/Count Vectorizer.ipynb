{
 "cells": [
  {
   "cell_type": "markdown",
   "id": "8a4a1a72-2d3c-4c34-b3b0-b414b81b4319",
   "metadata": {},
   "source": [
    "## Convert numbers from textual data"
   ]
  },
  {
   "cell_type": "code",
   "execution_count": 1,
   "id": "6cc73b32-dc74-4b6d-873b-7674d96c4f46",
   "metadata": {},
   "outputs": [],
   "source": [
    "l = [\"My name is shamim\", \"I am a student\"]"
   ]
  },
  {
   "cell_type": "code",
   "execution_count": 3,
   "id": "c1efebf6-eb4b-4745-9d69-99679a8c17b5",
   "metadata": {},
   "outputs": [
    {
     "name": "stdout",
     "output_type": "stream",
     "text": [
      "Collecting pandas\n",
      "  Downloading pandas-2.2.3-cp310-cp310-win_amd64.whl.metadata (19 kB)\n",
      "Collecting numpy>=1.22.4 (from pandas)\n",
      "  Downloading numpy-2.2.3-cp310-cp310-win_amd64.whl.metadata (60 kB)\n",
      "Requirement already satisfied: python-dateutil>=2.8.2 in c:\\users\\md.shamim khan\\.conda\\envs\\envnlp\\lib\\site-packages (from pandas) (2.9.0.post0)\n",
      "Collecting pytz>=2020.1 (from pandas)\n",
      "  Downloading pytz-2025.1-py2.py3-none-any.whl.metadata (22 kB)\n",
      "Collecting tzdata>=2022.7 (from pandas)\n",
      "  Downloading tzdata-2025.1-py2.py3-none-any.whl.metadata (1.4 kB)\n",
      "Requirement already satisfied: six>=1.5 in c:\\users\\md.shamim khan\\.conda\\envs\\envnlp\\lib\\site-packages (from python-dateutil>=2.8.2->pandas) (1.16.0)\n",
      "Downloading pandas-2.2.3-cp310-cp310-win_amd64.whl (11.6 MB)\n",
      "   ---------------------------------------- 0.0/11.6 MB ? eta -:--:--\n",
      "    --------------------------------------- 0.3/11.6 MB ? eta -:--:--\n",
      "   --- ------------------------------------ 1.0/11.6 MB 2.6 MB/s eta 0:00:04\n",
      "   ------- -------------------------------- 2.1/11.6 MB 3.7 MB/s eta 0:00:03\n",
      "   --------- ------------------------------ 2.9/11.6 MB 3.8 MB/s eta 0:00:03\n",
      "   ------------ --------------------------- 3.7/11.6 MB 4.1 MB/s eta 0:00:02\n",
      "   -------------- ------------------------- 4.2/11.6 MB 4.1 MB/s eta 0:00:02\n",
      "   --------------- ------------------------ 4.5/11.6 MB 3.4 MB/s eta 0:00:03\n",
      "   ------------------ --------------------- 5.2/11.6 MB 3.4 MB/s eta 0:00:02\n",
      "   -------------------- ------------------- 6.0/11.6 MB 3.4 MB/s eta 0:00:02\n",
      "   ------------------------ --------------- 7.1/11.6 MB 3.5 MB/s eta 0:00:02\n",
      "   --------------------------- ------------ 7.9/11.6 MB 3.6 MB/s eta 0:00:02\n",
      "   ----------------------------- ---------- 8.7/11.6 MB 3.6 MB/s eta 0:00:01\n",
      "   -------------------------------- ------- 9.4/11.6 MB 3.6 MB/s eta 0:00:01\n",
      "   ------------------------------------ --- 10.5/11.6 MB 3.7 MB/s eta 0:00:01\n",
      "   ---------------------------------------  11.5/11.6 MB 3.8 MB/s eta 0:00:01\n",
      "   ---------------------------------------- 11.6/11.6 MB 3.8 MB/s eta 0:00:00\n",
      "Downloading numpy-2.2.3-cp310-cp310-win_amd64.whl (12.9 MB)\n",
      "   ---------------------------------------- 0.0/12.9 MB ? eta -:--:--\n",
      "   --- ------------------------------------ 1.0/12.9 MB 5.6 MB/s eta 0:00:03\n",
      "   ----- ---------------------------------- 1.8/12.9 MB 4.6 MB/s eta 0:00:03\n",
      "   -------- ------------------------------- 2.9/12.9 MB 4.7 MB/s eta 0:00:03\n",
      "   ------------ --------------------------- 4.2/12.9 MB 5.1 MB/s eta 0:00:02\n",
      "   ----------------- ---------------------- 5.8/12.9 MB 5.7 MB/s eta 0:00:02\n",
      "   --------------------- ------------------ 6.8/12.9 MB 5.7 MB/s eta 0:00:02\n",
      "   ------------------------- -------------- 8.1/12.9 MB 5.7 MB/s eta 0:00:01\n",
      "   ------------------------------ --------- 9.7/12.9 MB 5.9 MB/s eta 0:00:01\n",
      "   ---------------------------------- ----- 11.0/12.9 MB 6.0 MB/s eta 0:00:01\n",
      "   -------------------------------------- - 12.3/12.9 MB 5.9 MB/s eta 0:00:01\n",
      "   ---------------------------------------- 12.9/12.9 MB 5.7 MB/s eta 0:00:00\n",
      "Downloading pytz-2025.1-py2.py3-none-any.whl (507 kB)\n",
      "Downloading tzdata-2025.1-py2.py3-none-any.whl (346 kB)\n",
      "Installing collected packages: pytz, tzdata, numpy, pandas\n",
      "Successfully installed numpy-2.2.3 pandas-2.2.3 pytz-2025.1 tzdata-2025.1\n"
     ]
    }
   ],
   "source": [
    "!pip install pandas"
   ]
  },
  {
   "cell_type": "code",
   "execution_count": 4,
   "id": "e9bb8801-3277-498f-994f-46f34aa09e76",
   "metadata": {},
   "outputs": [],
   "source": [
    "import pandas as pd"
   ]
  },
  {
   "cell_type": "code",
   "execution_count": 5,
   "id": "53bbfd57-ad48-46f1-a9b3-c34fe84725a7",
   "metadata": {},
   "outputs": [],
   "source": [
    "df = pd.DataFrame({\"Name\": l})"
   ]
  },
  {
   "cell_type": "code",
   "execution_count": 6,
   "id": "8ba79a2c-76d5-4979-a4c2-7b8e2530f9d3",
   "metadata": {},
   "outputs": [
    {
     "data": {
      "text/html": [
       "<div>\n",
       "<style scoped>\n",
       "    .dataframe tbody tr th:only-of-type {\n",
       "        vertical-align: middle;\n",
       "    }\n",
       "\n",
       "    .dataframe tbody tr th {\n",
       "        vertical-align: top;\n",
       "    }\n",
       "\n",
       "    .dataframe thead th {\n",
       "        text-align: right;\n",
       "    }\n",
       "</style>\n",
       "<table border=\"1\" class=\"dataframe\">\n",
       "  <thead>\n",
       "    <tr style=\"text-align: right;\">\n",
       "      <th></th>\n",
       "      <th>Name</th>\n",
       "    </tr>\n",
       "  </thead>\n",
       "  <tbody>\n",
       "    <tr>\n",
       "      <th>0</th>\n",
       "      <td>My name is shamim</td>\n",
       "    </tr>\n",
       "    <tr>\n",
       "      <th>1</th>\n",
       "      <td>I am a student</td>\n",
       "    </tr>\n",
       "  </tbody>\n",
       "</table>\n",
       "</div>"
      ],
      "text/plain": [
       "                Name\n",
       "0  My name is shamim\n",
       "1     I am a student"
      ]
     },
     "execution_count": 6,
     "metadata": {},
     "output_type": "execute_result"
    }
   ],
   "source": [
    "df"
   ]
  },
  {
   "cell_type": "code",
   "execution_count": 10,
   "id": "b7e7b692-d3d3-45e5-8f72-79afa3357136",
   "metadata": {
    "collapsed": true,
    "jupyter": {
     "outputs_hidden": true
    }
   },
   "outputs": [
    {
     "name": "stdout",
     "output_type": "stream",
     "text": [
      "Collecting scikit-learn\n",
      "  Downloading scikit_learn-1.6.1-cp310-cp310-win_amd64.whl.metadata (15 kB)\n",
      "Requirement already satisfied: numpy>=1.19.5 in c:\\users\\md.shamim khan\\.conda\\envs\\envnlp\\lib\\site-packages (from scikit-learn) (2.2.3)\n",
      "Collecting scipy>=1.6.0 (from scikit-learn)\n",
      "  Using cached scipy-1.15.1-cp310-cp310-win_amd64.whl.metadata (60 kB)\n",
      "Requirement already satisfied: joblib>=1.2.0 in c:\\users\\md.shamim khan\\.conda\\envs\\envnlp\\lib\\site-packages (from scikit-learn) (1.4.2)\n",
      "Collecting threadpoolctl>=3.1.0 (from scikit-learn)\n",
      "  Downloading threadpoolctl-3.5.0-py3-none-any.whl.metadata (13 kB)\n",
      "Downloading scikit_learn-1.6.1-cp310-cp310-win_amd64.whl (11.1 MB)\n",
      "   ---------------------------------------- 0.0/11.1 MB ? eta -:--:--\n",
      "   ---------------------------------------- 0.0/11.1 MB ? eta -:--:--\n",
      "    --------------------------------------- 0.3/11.1 MB ? eta -:--:--\n",
      "   - -------------------------------------- 0.5/11.1 MB 1.2 MB/s eta 0:00:09\n",
      "   --- ------------------------------------ 1.0/11.1 MB 1.4 MB/s eta 0:00:08\n",
      "   ------ --------------------------------- 1.8/11.1 MB 2.0 MB/s eta 0:00:05\n",
      "   -------- ------------------------------- 2.4/11.1 MB 2.1 MB/s eta 0:00:05\n",
      "   ------------ --------------------------- 3.4/11.1 MB 2.6 MB/s eta 0:00:03\n",
      "   -------------- ------------------------- 3.9/11.1 MB 2.7 MB/s eta 0:00:03\n",
      "   ----------------- ---------------------- 5.0/11.1 MB 2.8 MB/s eta 0:00:03\n",
      "   ------------------- -------------------- 5.5/11.1 MB 2.9 MB/s eta 0:00:02\n",
      "   --------------------- ------------------ 6.0/11.1 MB 2.8 MB/s eta 0:00:02\n",
      "   ----------------------- ---------------- 6.6/11.1 MB 2.8 MB/s eta 0:00:02\n",
      "   ------------------------- -------------- 7.1/11.1 MB 2.7 MB/s eta 0:00:02\n",
      "   -------------------------- ------------- 7.3/11.1 MB 2.6 MB/s eta 0:00:02\n",
      "   --------------------------- ------------ 7.6/11.1 MB 2.6 MB/s eta 0:00:02\n",
      "   ---------------------------- ----------- 7.9/11.1 MB 2.6 MB/s eta 0:00:02\n",
      "   ----------------------------- ---------- 8.1/11.1 MB 2.5 MB/s eta 0:00:02\n",
      "   ------------------------------- -------- 8.7/11.1 MB 2.4 MB/s eta 0:00:02\n",
      "   -------------------------------- ------- 8.9/11.1 MB 2.4 MB/s eta 0:00:01\n",
      "   -------------------------------- ------- 9.2/11.1 MB 2.3 MB/s eta 0:00:01\n",
      "   --------------------------------- ------ 9.4/11.1 MB 2.3 MB/s eta 0:00:01\n",
      "   ---------------------------------- ----- 9.7/11.1 MB 2.2 MB/s eta 0:00:01\n",
      "   ----------------------------------- ---- 10.0/11.1 MB 2.2 MB/s eta 0:00:01\n",
      "   ------------------------------------ --- 10.2/11.1 MB 2.2 MB/s eta 0:00:01\n",
      "   ------------------------------------- -- 10.5/11.1 MB 2.1 MB/s eta 0:00:01\n",
      "   -------------------------------------- - 10.7/11.1 MB 2.1 MB/s eta 0:00:01\n",
      "   ---------------------------------------  11.0/11.1 MB 2.0 MB/s eta 0:00:01\n",
      "   ---------------------------------------- 11.1/11.1 MB 2.0 MB/s eta 0:00:00\n",
      "Using cached scipy-1.15.1-cp310-cp310-win_amd64.whl (43.9 MB)\n",
      "Downloading threadpoolctl-3.5.0-py3-none-any.whl (18 kB)\n",
      "Installing collected packages: threadpoolctl, scipy, scikit-learn\n",
      "Successfully installed scikit-learn-1.6.1 scipy-1.15.1 threadpoolctl-3.5.0\n"
     ]
    }
   ],
   "source": [
    "!pip install scikit-learn"
   ]
  },
  {
   "cell_type": "code",
   "execution_count": 11,
   "id": "ba2f8b55-f32e-41fe-8f5f-da21c46fc191",
   "metadata": {},
   "outputs": [],
   "source": [
    "from sklearn.feature_extraction.text import CountVectorizer"
   ]
  },
  {
   "cell_type": "code",
   "execution_count": 12,
   "id": "2a706c0e-ba0d-4654-9236-1b9699abf732",
   "metadata": {},
   "outputs": [],
   "source": [
    "cv = CountVectorizer()"
   ]
  },
  {
   "cell_type": "code",
   "execution_count": 13,
   "id": "7d4db260-e7c0-4047-b068-b9ae92ed13f5",
   "metadata": {},
   "outputs": [],
   "source": [
    "new_data = cv.fit_transform(df[\"Name\"]).toarray()"
   ]
  },
  {
   "cell_type": "code",
   "execution_count": 14,
   "id": "d666815c-8193-4c51-aba5-3faf0f24ca12",
   "metadata": {},
   "outputs": [
    {
     "data": {
      "text/plain": [
       "array([[0, 1, 1, 1, 1, 0],\n",
       "       [1, 0, 0, 0, 0, 1]])"
      ]
     },
     "execution_count": 14,
     "metadata": {},
     "output_type": "execute_result"
    }
   ],
   "source": [
    "new_data"
   ]
  },
  {
   "cell_type": "code",
   "execution_count": 15,
   "id": "4ec22792-99c5-4679-b65c-d4168f5b477f",
   "metadata": {},
   "outputs": [
    {
     "data": {
      "text/plain": [
       "{'my': 2, 'name': 3, 'is': 1, 'shamim': 4, 'am': 0, 'student': 5}"
      ]
     },
     "execution_count": 15,
     "metadata": {},
     "output_type": "execute_result"
    }
   ],
   "source": [
    "cv.vocabulary_"
   ]
  },
  {
   "cell_type": "code",
   "execution_count": null,
   "id": "da4d5db4-8bd8-4b30-837c-d2f94a033acf",
   "metadata": {},
   "outputs": [],
   "source": []
  }
 ],
 "metadata": {
  "kernelspec": {
   "display_name": "Python (envNLP)",
   "language": "python",
   "name": "envnlp"
  },
  "language_info": {
   "codemirror_mode": {
    "name": "ipython",
    "version": 3
   },
   "file_extension": ".py",
   "mimetype": "text/x-python",
   "name": "python",
   "nbconvert_exporter": "python",
   "pygments_lexer": "ipython3",
   "version": "3.10.16"
  }
 },
 "nbformat": 4,
 "nbformat_minor": 5
}
