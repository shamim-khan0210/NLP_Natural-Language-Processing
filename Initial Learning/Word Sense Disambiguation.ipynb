{
 "cells": [
  {
   "cell_type": "code",
   "execution_count": 1,
   "id": "536cfabe-dc31-484c-ae67-52cc089d4afd",
   "metadata": {},
   "outputs": [],
   "source": [
    "x = \"Sunrise (or sunup) is the moment when the upper rim of the Sun appears on the horizon in the morning,[1] at the start of the Sun path. The term can also refer to the entire process of the solar disk crossing the horizon.\""
   ]
  },
  {
   "cell_type": "code",
   "execution_count": 7,
   "id": "209029e4-c794-47d3-828b-3d8307c5e4d0",
   "metadata": {},
   "outputs": [],
   "source": [
    "y = \"A mouse (pl.: mice) is a small rodent. Characteristically, mice are known to have a pointed snout, small rounded ears, a body-length scaly tail, and a high breeding rate. The best known mouse species is the common house mouse (Mus musculus). Mice are also popular as pets.\""
   ]
  },
  {
   "cell_type": "code",
   "execution_count": 8,
   "id": "0f67efb0-5f48-40e2-8663-9da50e27cde6",
   "metadata": {},
   "outputs": [],
   "source": [
    "from nltk.wsd import lesk\n",
    "from nltk.tokenize import word_tokenize"
   ]
  },
  {
   "cell_type": "code",
   "execution_count": 9,
   "id": "d64a728a-816b-412e-900e-eb83684e84eb",
   "metadata": {},
   "outputs": [],
   "source": [
    "l = lesk(word_tokenize(y), \"sun\")"
   ]
  },
  {
   "cell_type": "code",
   "execution_count": 10,
   "id": "5e4ad2a0-aee1-4834-ac9d-aca568e2fe28",
   "metadata": {},
   "outputs": [
    {
     "data": {
      "text/plain": [
       "'first day of the week; observed as a day of rest and worship by most Christians'"
      ]
     },
     "execution_count": 10,
     "metadata": {},
     "output_type": "execute_result"
    }
   ],
   "source": [
    "l.definition()"
   ]
  },
  {
   "cell_type": "code",
   "execution_count": null,
   "id": "e182c654-9470-45ee-8f0b-c1b09911a221",
   "metadata": {},
   "outputs": [],
   "source": []
  }
 ],
 "metadata": {
  "kernelspec": {
   "display_name": "Python (envNLP)",
   "language": "python",
   "name": "envnlp"
  },
  "language_info": {
   "codemirror_mode": {
    "name": "ipython",
    "version": 3
   },
   "file_extension": ".py",
   "mimetype": "text/x-python",
   "name": "python",
   "nbconvert_exporter": "python",
   "pygments_lexer": "ipython3",
   "version": "3.10.16"
  }
 },
 "nbformat": 4,
 "nbformat_minor": 5
}
