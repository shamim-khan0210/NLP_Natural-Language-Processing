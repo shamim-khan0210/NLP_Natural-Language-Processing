{
 "cells": [
  {
   "cell_type": "code",
   "execution_count": 15,
   "id": "db062d51-cadf-44e4-9de0-9208b0901639",
   "metadata": {},
   "outputs": [],
   "source": [
    "x = \"I am Hasibul Hasan i am a student of NSU i am a very bad person i am a student\""
   ]
  },
  {
   "cell_type": "code",
   "execution_count": 16,
   "id": "3700816c-6ccd-4836-a702-e64114a86a5f",
   "metadata": {},
   "outputs": [],
   "source": [
    "from nltk.tokenize import word_tokenize "
   ]
  },
  {
   "cell_type": "code",
   "execution_count": 17,
   "id": "d1cff2f6-7ee1-4384-b769-3d9b3fff2998",
   "metadata": {},
   "outputs": [],
   "source": [
    "w = word_tokenize(x)"
   ]
  },
  {
   "cell_type": "code",
   "execution_count": 18,
   "id": "6356e3ce-8c56-4c66-8859-aa78bfc46c9c",
   "metadata": {},
   "outputs": [
    {
     "data": {
      "text/plain": [
       "['I',\n",
       " 'am',\n",
       " 'Hasibul',\n",
       " 'Hasan',\n",
       " 'i',\n",
       " 'am',\n",
       " 'a',\n",
       " 'student',\n",
       " 'of',\n",
       " 'NSU',\n",
       " 'i',\n",
       " 'am',\n",
       " 'a',\n",
       " 'very',\n",
       " 'bad',\n",
       " 'person',\n",
       " 'i',\n",
       " 'am',\n",
       " 'a',\n",
       " 'student']"
      ]
     },
     "execution_count": 18,
     "metadata": {},
     "output_type": "execute_result"
    }
   ],
   "source": [
    "w"
   ]
  },
  {
   "cell_type": "code",
   "execution_count": 19,
   "id": "9c4f710e-9e59-4c16-a20b-13a149a4f89d",
   "metadata": {},
   "outputs": [],
   "source": [
    "from nltk.collocations import BigramCollocationFinder, TrigramCollocationFinder, ngrams"
   ]
  },
  {
   "cell_type": "code",
   "execution_count": 26,
   "id": "ab3b3ae8-2bf3-4836-b5b5-c349be54056f",
   "metadata": {},
   "outputs": [],
   "source": [
    "b = BigramCollocationFinder.from_words(w)\n",
    "t = TrigramCollocationFinder.from_words(w)\n",
    "n = ngrams(w,2)"
   ]
  },
  {
   "cell_type": "code",
   "execution_count": 27,
   "id": "db98b34d-a547-4d08-9da6-2f397fb77dd6",
   "metadata": {},
   "outputs": [
    {
     "name": "stdout",
     "output_type": "stream",
     "text": [
      "('I', 'am')\n",
      "('am', 'Hasibul')\n",
      "('Hasibul', 'Hasan')\n",
      "('Hasan', 'i')\n",
      "('i', 'am')\n",
      "('am', 'a')\n",
      "('a', 'student')\n",
      "('student', 'of')\n",
      "('of', 'NSU')\n",
      "('NSU', 'i')\n",
      "('i', 'am')\n",
      "('am', 'a')\n",
      "('a', 'very')\n",
      "('very', 'bad')\n",
      "('bad', 'person')\n",
      "('person', 'i')\n",
      "('i', 'am')\n",
      "('am', 'a')\n",
      "('a', 'student')\n"
     ]
    }
   ],
   "source": [
    "#b.ngram_fd\n",
    "#t.ngram_fd\n",
    "for i in n:\n",
    "    print(i)"
   ]
  },
  {
   "cell_type": "code",
   "execution_count": null,
   "id": "ce167a02-72e1-4ec4-822b-d01d479e0c8c",
   "metadata": {},
   "outputs": [],
   "source": []
  }
 ],
 "metadata": {
  "kernelspec": {
   "display_name": "Python (envNLP)",
   "language": "python",
   "name": "envnlp"
  },
  "language_info": {
   "codemirror_mode": {
    "name": "ipython",
    "version": 3
   },
   "file_extension": ".py",
   "mimetype": "text/x-python",
   "name": "python",
   "nbconvert_exporter": "python",
   "pygments_lexer": "ipython3",
   "version": "3.10.16"
  }
 },
 "nbformat": 4,
 "nbformat_minor": 5
}
